{
 "cells": [
  {
   "cell_type": "code",
   "execution_count": 21,
   "id": "79e3f205",
   "metadata": {},
   "outputs": [
    {
     "name": "stderr",
     "output_type": "stream",
     "text": [
      "[nltk_data] Downloading package stopwords to /Users/mjf81/nltk_data...\n",
      "[nltk_data]   Package stopwords is already up-to-date!\n"
     ]
    },
    {
     "data": {
      "text/plain": [
       "True"
      ]
     },
     "execution_count": 21,
     "metadata": {},
     "output_type": "execute_result"
    }
   ],
   "source": [
    "# Import and download packages\n",
    "import requests\n",
    "import csv\n",
    "from bs4 import BeautifulSoup\n",
    "import nltk\n",
    "from collections import Counter\n",
    "nltk.download('stopwords')"
   ]
  },
  {
   "cell_type": "code",
   "execution_count": 88,
   "id": "b4872b18",
   "metadata": {},
   "outputs": [],
   "source": [
    "# Get the Moby Dick HTML  \n",
    "r = requests.get('https://www.gutenberg.org/cache/epub/2554/pg2554-images.html')\n",
    "\n",
    "# Set the correct text encoding of the HTML page\n",
    "r.encoding = 'utf-8'"
   ]
  },
  {
   "cell_type": "code",
   "execution_count": 89,
   "id": "3727aaad",
   "metadata": {},
   "outputs": [
    {
     "name": "stdout",
     "output_type": "stream",
     "text": [
      " the English reader to\r\n",
      "      understand his work.\r\n",
      "    </p>\r\n",
      "<p>\r\n",
      "      Dostoevsky was the son of a doctor. His parents were very hard-working and\r\n",
      "      deeply religious people, but so poor that they lived with their five\r\n",
      "      children in only two rooms. The father and mother spent their evenings in\r\n",
      "      reading aloud to their children, generally from books of a serious\r\n",
      "      character.\r\n",
      "    </p>\r\n",
      "<p>\r\n",
      "      Though always sickly and delicate Dostoevsky came out third in the final\r\n",
      "      examination of the Petersburg school of Engineering. There he had already\r\n",
      "      begun his first work, “Poor Folk.”\r\n",
      "     </p>\r\n",
      "<p>\r\n",
      "      This story was published by the poet Nekrassov in his review and was\r\n",
      "      received with acclamations. The shy, unknown youth found himself instantly\r\n",
      "      something of a celebrity. A brilliant and successful career seemed to open\r\n",
      "      before him, but those hopes were soon dashed. In 1849 he was arrested.\r\n",
      "    </p>\r\n",
      "<p>\r\n",
      "      Though neither by temperament\n"
     ]
    }
   ],
   "source": [
    "# Extract the HTML from the request object\n",
    "html = r.text\n",
    "\n",
    "# Print 1000 characters in html\n",
    "print(html[10000:11000])"
   ]
  },
  {
   "cell_type": "code",
   "execution_count": 90,
   "id": "49240a8c",
   "metadata": {},
   "outputs": [],
   "source": [
    "# Create a BeautifulSoup object from the HTML\n",
    "html_soup = BeautifulSoup(html, \"html.parser\")\n",
    "\n",
    "# Get the text out of the soup\n",
    "moby_text = html_soup.get_text()"
   ]
  },
  {
   "cell_type": "code",
   "execution_count": 91,
   "id": "7805d156",
   "metadata": {},
   "outputs": [],
   "source": [
    "# Create a tokenizer\n",
    "tokenizer = nltk.tokenize.RegexpTokenizer('\\w+')\n",
    "\n",
    "# Tokenize the text\n",
    "tokens = tokenizer.tokenize(moby_text)"
   ]
  },
  {
   "cell_type": "code",
   "execution_count": 92,
   "id": "505f6bb1",
   "metadata": {},
   "outputs": [
    {
     "data": {
      "text/plain": [
       "['the', 'project', 'gutenberg', 'ebook', 'of', 'crime', 'and', 'punishment']"
      ]
     },
     "execution_count": 92,
     "metadata": {},
     "output_type": "execute_result"
    }
   ],
   "source": [
    "# Create a list called words containing all tokens transformed to lowercase\n",
    "words = [token.lower() for token in tokens]\n",
    "\n",
    "# Print out the first eight words\n",
    "words[:8]"
   ]
  },
  {
   "cell_type": "code",
   "execution_count": 93,
   "id": "dd224682",
   "metadata": {},
   "outputs": [
    {
     "data": {
      "text/plain": [
       "['i', 'me', 'my', 'myself', 'we', 'our', 'ours', 'ourselves']"
      ]
     },
     "execution_count": 93,
     "metadata": {},
     "output_type": "execute_result"
    }
   ],
   "source": [
    "# Get the English stop words from nltk\n",
    "stop_words = nltk.corpus.stopwords.words('english')\n",
    "\n",
    "# Print out the first eight stop words\n",
    "stop_words[:8]"
   ]
  },
  {
   "cell_type": "code",
   "execution_count": 94,
   "id": "46f530fe",
   "metadata": {},
   "outputs": [
    {
     "data": {
      "text/plain": [
       "['project', 'gutenberg', 'ebook', 'crime', 'punishment']"
      ]
     },
     "execution_count": 94,
     "metadata": {},
     "output_type": "execute_result"
    }
   ],
   "source": [
    "# Create a list words_ns containing all words that are in words but not in stop_words\n",
    "words_no_stop = [word for word in words if word not in stop_words]\n",
    "\n",
    "# Print the first five words_no_stop to check that stop words are gone\n",
    "words_no_stop[:5]"
   ]
  },
  {
   "cell_type": "code",
   "execution_count": 95,
   "id": "eeaf57e2",
   "metadata": {},
   "outputs": [
    {
     "name": "stdout",
     "output_type": "stream",
     "text": [
      "[('raskolnikov', 785), ('one', 646), ('would', 575), ('know', 530), ('said', 519), ('could', 497), ('man', 481), ('come', 480), ('like', 455), ('though', 445)]\n",
      "['raskolnikov', 'one', 'would', 'know', 'said', 'could', 'man', 'come', 'like', 'though']\n"
     ]
    }
   ],
   "source": [
    "# Initialize a Counter object from our processed list of words\n",
    "count = Counter(words_no_stop)\n",
    "\n",
    "# Store ten most common words and their counts as top_ten\n",
    "top_ten = count.most_common(10)\n",
    "\n",
    "# Print the top ten words and their counts\n",
    "print(top_ten)\n",
    "\n",
    "# CSV writing easier as list with just words...\n",
    "sorted_count = sorted(count, key=count.get, reverse=True)\n",
    "\n",
    "top_hundred = sorted_count[0:100]\n",
    "\n",
    "print(top_hundred[0:10])"
   ]
  },
  {
   "cell_type": "code",
   "execution_count": 96,
   "id": "8c63d06c",
   "metadata": {},
   "outputs": [
    {
     "name": "stdout",
     "output_type": "stream",
     "text": [
      "done\n"
     ]
    }
   ],
   "source": [
    "filename = 'words_crimeandpunishment.csv'\n",
    "with open(filename, 'w', newline='') as csvfile:\n",
    "    file_writer = csv.writer(csvfile, delimiter=',',  quotechar='\"', \n",
    "                                     quoting=csv.QUOTE_MINIMAL)\n",
    "    file_writer.writerow(top_hundred)\n",
    "\n",
    "    print(\"done\")"
   ]
  },
  {
   "cell_type": "code",
   "execution_count": null,
   "id": "fcfb97ff",
   "metadata": {},
   "outputs": [],
   "source": []
  }
 ],
 "metadata": {
  "kernelspec": {
   "display_name": "Python 3",
   "language": "python",
   "name": "python3"
  },
  "language_info": {
   "codemirror_mode": {
    "name": "ipython",
    "version": 3
   },
   "file_extension": ".py",
   "mimetype": "text/x-python",
   "name": "python",
   "nbconvert_exporter": "python",
   "pygments_lexer": "ipython3",
   "version": "3.6.13"
  }
 },
 "nbformat": 4,
 "nbformat_minor": 5
}
