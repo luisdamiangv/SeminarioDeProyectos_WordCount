{
 "cells": [
  {
   "cell_type": "markdown",
   "id": "09570de5",
   "metadata": {},
   "source": [
    "## readCSV_wordcounts\n",
    "\n",
    "Script to read in csv files related to wordcount and combine them into a single dataframe for future further analysis.\n",
    "\n",
    "Required csv format: 2 columns - (1) \"word\", (2) \"count\"\n",
    "\n",
    "Merlin Fair\n",
    "<br>Created: 2024/02/27\n",
    "<br>Last Modified: 2024/02/27 (MF)"
   ]
  },
  {
   "cell_type": "code",
   "execution_count": 1,
   "id": "0a813d02",
   "metadata": {},
   "outputs": [],
   "source": [
    "import pandas as pd\n",
    "import os\n",
    "import numpy as np"
   ]
  },
  {
   "cell_type": "code",
   "execution_count": 11,
   "id": "c195514d",
   "metadata": {},
   "outputs": [
    {
     "name": "stdout",
     "output_type": "stream",
     "text": [
      "['words_doriangray.csv', 'words_crimeandpunishment.csv', 'words_romeoandjuliet.csv', 'words_frankenstein.csv', 'words_mobydick.csv']\n"
     ]
    }
   ],
   "source": [
    "# Create list of csv files in current working directory\n",
    "csv_files = [f for f in os.listdir(os.getcwd()) if f.endswith('.csv')]\n",
    "print(csv_files)"
   ]
  },
  {
   "cell_type": "code",
   "execution_count": 28,
   "id": "ea2bcc91",
   "metadata": {},
   "outputs": [
    {
     "data": {
      "text/html": [
       "<div>\n",
       "<style scoped>\n",
       "    .dataframe tbody tr th:only-of-type {\n",
       "        vertical-align: middle;\n",
       "    }\n",
       "\n",
       "    .dataframe tbody tr th {\n",
       "        vertical-align: top;\n",
       "    }\n",
       "\n",
       "    .dataframe thead th {\n",
       "        text-align: right;\n",
       "    }\n",
       "</style>\n",
       "<table border=\"1\" class=\"dataframe\">\n",
       "  <thead>\n",
       "    <tr style=\"text-align: right;\">\n",
       "      <th></th>\n",
       "      <th>word</th>\n",
       "      <th>count</th>\n",
       "    </tr>\n",
       "  </thead>\n",
       "  <tbody>\n",
       "    <tr>\n",
       "      <th>400</th>\n",
       "      <td>whale</td>\n",
       "      <td>1244</td>\n",
       "    </tr>\n",
       "    <tr>\n",
       "      <th>401</th>\n",
       "      <td>one</td>\n",
       "      <td>925</td>\n",
       "    </tr>\n",
       "    <tr>\n",
       "      <th>100</th>\n",
       "      <td>raskolnikov</td>\n",
       "      <td>785</td>\n",
       "    </tr>\n",
       "    <tr>\n",
       "      <th>402</th>\n",
       "      <td>like</td>\n",
       "      <td>647</td>\n",
       "    </tr>\n",
       "    <tr>\n",
       "      <th>101</th>\n",
       "      <td>one</td>\n",
       "      <td>646</td>\n",
       "    </tr>\n",
       "  </tbody>\n",
       "</table>\n",
       "</div>"
      ],
      "text/plain": [
       "            word  count\n",
       "400        whale   1244\n",
       "401          one    925\n",
       "100  raskolnikov    785\n",
       "402         like    647\n",
       "101          one    646"
      ]
     },
     "execution_count": 28,
     "metadata": {},
     "output_type": "execute_result"
    }
   ],
   "source": [
    "# Initial dataframe\n",
    "dfs = []\n",
    "\n",
    "# Read in each csv one-by-one and append\n",
    "for csv in csv_files:\n",
    "    df = pd.read_csv(csv)\n",
    "    dfs.append(df)\n",
    "\n",
    "#concatenate list\n",
    "combined_df = pd.concat(dfs, ignore_index=True)\n",
    "\n",
    "# sort combined dataframe by descending values\n",
    "combined_df.sort_values(by=['count','word'], ascending=False, inplace=True)\n",
    "\n",
    "# preview\n",
    "combined_df.head()"
   ]
  },
  {
   "cell_type": "code",
   "execution_count": 31,
   "id": "89d0b8d6",
   "metadata": {},
   "outputs": [],
   "source": [
    "# Optional, write combined data to CSV\n",
    "\n",
    "save_bool = False # Switch to 'True' to save to CSV\n",
    "\n",
    "if save_bool:\n",
    "    filename = 'combined_dataset.csv'\n",
    "    combined_df.to_csv(filename, index=False)"
   ]
  }
 ],
 "metadata": {
  "kernelspec": {
   "display_name": "Python 3",
   "language": "python",
   "name": "python3"
  },
  "language_info": {
   "codemirror_mode": {
    "name": "ipython",
    "version": 3
   },
   "file_extension": ".py",
   "mimetype": "text/x-python",
   "name": "python",
   "nbconvert_exporter": "python",
   "pygments_lexer": "ipython3",
   "version": "3.6.13"
  }
 },
 "nbformat": 4,
 "nbformat_minor": 5
}
